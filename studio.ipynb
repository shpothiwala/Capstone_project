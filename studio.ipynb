{
 "cells": [
  {
   "cell_type": "markdown",
   "metadata": {},
   "source": [
    "# Movie Data Analysis"
   ]
  },
  {
   "cell_type": "markdown",
   "metadata": {},
   "source": [
    "![](images/studio.jpg)"
   ]
  },
  {
   "cell_type": "markdown",
   "metadata": {},
   "source": [
    "# BUSINESS UNDERSTADING\n",
    "\n",
    "**Microsoft needs data to create a new most benifical movie studio because microsoft want to enter in new industries.** \n"
   ]
  },
  {
   "cell_type": "markdown",
   "metadata": {},
   "source": [
    "# DATA UNDERSTANDING\n",
    "\n",
    "**They provide us some csv and tsv file and IMDB table for analysis and give them authentic data with visulisation. For analysis using some compution library and standard visulisation library.**\n"
   ]
  },
  {
   "cell_type": "markdown",
   "metadata": {},
   "source": [
    "# Data Prepartion\n",
    "\n",
    "**we are going to analysis 1)Top studio on box office using by rt_movie_info.tsv file. 2)Top ten profit making movie \n",
    "in domestic as well as worldwide using by tn.movie_budgets.csv file.  3)Most revenue earning studio domestic and foreign using bom.movie_gross.csv file.  4) Averagerating by genres using two table movie_basics & movie_rating from IMDB.  5)top directors as per averagerating using three table Persin, director and movie_rating from IMDB**\n"
   ]
  },
  {
   "cell_type": "code",
   "execution_count": 1,
   "metadata": {},
   "outputs": [],
   "source": [
    "#import some library "
   ]
  },
  {
   "cell_type": "code",
   "execution_count": 2,
   "metadata": {},
   "outputs": [],
   "source": [
    "import pandas as pd\n",
    "import seaborn as sns\n",
    "import matplotlib.pyplot as plt\n",
    "import sqlite3"
   ]
  },
  {
   "cell_type": "code",
   "execution_count": 3,
   "metadata": {},
   "outputs": [
    {
     "name": "stdout",
     "output_type": "stream",
     "text": [
      "Archive:  zippedData/im.db.zip\r\n"
     ]
    }
   ],
   "source": [
    "#unzips the SQL data, since SQLite doesn't work with zipped data\n",
    "! unzip -n zippedData/im.db.zip"
   ]
  },
  {
   "cell_type": "code",
   "execution_count": 4,
   "metadata": {},
   "outputs": [
    {
     "name": "stdout",
     "output_type": "stream",
     "text": [
      "bom.movie_gross.csv.gz\trt.movie_info.tsv.gz  tmdb.movies.csv.gz\r\n",
      "im.db.zip\t\trt.reviews.tsv.gz     tn.movie_budgets.csv.gz\r\n"
     ]
    }
   ],
   "source": [
    "!ls zippedData"
   ]
  },
  {
   "cell_type": "markdown",
   "metadata": {},
   "source": [
    "# Data Manipulation and Analysis"
   ]
  },
  {
   "cell_type": "code",
   "execution_count": 5,
   "metadata": {},
   "outputs": [],
   "source": [
    "#for above data read the rt.movie.info cvs file"
   ]
  },
  {
   "cell_type": "code",
   "execution_count": 6,
   "metadata": {},
   "outputs": [
    {
     "name": "stdout",
     "output_type": "stream",
     "text": [
      "<class 'pandas.core.frame.DataFrame'>\n",
      "RangeIndex: 1560 entries, 0 to 1559\n",
      "Data columns (total 12 columns):\n",
      " #   Column        Non-Null Count  Dtype \n",
      "---  ------        --------------  ----- \n",
      " 0   id            1560 non-null   int64 \n",
      " 1   synopsis      1498 non-null   object\n",
      " 2   rating        1557 non-null   object\n",
      " 3   genre         1552 non-null   object\n",
      " 4   director      1361 non-null   object\n",
      " 5   writer        1111 non-null   object\n",
      " 6   theater_date  1201 non-null   object\n",
      " 7   dvd_date      1201 non-null   object\n",
      " 8   currency      340 non-null    object\n",
      " 9   box_office    340 non-null    object\n",
      " 10  runtime       1530 non-null   object\n",
      " 11  studio        494 non-null    object\n",
      "dtypes: int64(1), object(11)\n",
      "memory usage: 146.4+ KB\n"
     ]
    }
   ],
   "source": [
    "rt_movie_info = pd.read_csv(\"zippedData/rt.movie_info.tsv.gz\", delimiter=\"\\t\")\n",
    "rt_movie_info.info()"
   ]
  },
  {
   "cell_type": "code",
   "execution_count": 7,
   "metadata": {},
   "outputs": [],
   "source": [
    "#some datatype need to change from string to float e.g box_office dtat should be change to float."
   ]
  },
  {
   "cell_type": "code",
   "execution_count": 8,
   "metadata": {},
   "outputs": [],
   "source": [
    "rt_movie_info['box_office'] = rt_movie_info['box_office'].str.replace(',', '').astype(float)"
   ]
  },
  {
   "cell_type": "code",
   "execution_count": 9,
   "metadata": {},
   "outputs": [
    {
     "data": {
      "text/html": [
       "<div>\n",
       "<style scoped>\n",
       "    .dataframe tbody tr th:only-of-type {\n",
       "        vertical-align: middle;\n",
       "    }\n",
       "\n",
       "    .dataframe tbody tr th {\n",
       "        vertical-align: top;\n",
       "    }\n",
       "\n",
       "    .dataframe thead th {\n",
       "        text-align: right;\n",
       "    }\n",
       "</style>\n",
       "<table border=\"1\" class=\"dataframe\">\n",
       "  <thead>\n",
       "    <tr style=\"text-align: right;\">\n",
       "      <th></th>\n",
       "      <th>id</th>\n",
       "      <th>synopsis</th>\n",
       "      <th>rating</th>\n",
       "      <th>genre</th>\n",
       "      <th>director</th>\n",
       "      <th>writer</th>\n",
       "      <th>theater_date</th>\n",
       "      <th>dvd_date</th>\n",
       "      <th>currency</th>\n",
       "      <th>box_office</th>\n",
       "      <th>runtime</th>\n",
       "      <th>studio</th>\n",
       "    </tr>\n",
       "  </thead>\n",
       "  <tbody>\n",
       "    <tr>\n",
       "      <th>827</th>\n",
       "      <td>1071</td>\n",
       "      <td>This depiction of the last 12 hours in the lif...</td>\n",
       "      <td>R</td>\n",
       "      <td>Drama</td>\n",
       "      <td>Mel Gibson</td>\n",
       "      <td>Mel Gibson|Benedict Fitzgerald</td>\n",
       "      <td>Feb 25, 2004</td>\n",
       "      <td>Aug 31, 2004</td>\n",
       "      <td>$</td>\n",
       "      <td>368000000.0</td>\n",
       "      <td>127 minutes</td>\n",
       "      <td>Newmarket Film Group</td>\n",
       "    </tr>\n",
       "    <tr>\n",
       "      <th>877</th>\n",
       "      <td>1136</td>\n",
       "      <td>The Hobbit: An Unexpected Journey follows titl...</td>\n",
       "      <td>PG-13</td>\n",
       "      <td>Action and Adventure|Science Fiction and Fantasy</td>\n",
       "      <td>Peter Jackson</td>\n",
       "      <td>Peter Jackson|Philippa Boyens|Guillermo del To...</td>\n",
       "      <td>Dec 14, 2012</td>\n",
       "      <td>Mar 19, 2013</td>\n",
       "      <td>$</td>\n",
       "      <td>303001229.0</td>\n",
       "      <td>170 minutes</td>\n",
       "      <td>Warner Bros.</td>\n",
       "    </tr>\n",
       "    <tr>\n",
       "      <th>1188</th>\n",
       "      <td>1525</td>\n",
       "      <td>In Skyfall, Bond's loyalty to M is tested as h...</td>\n",
       "      <td>PG-13</td>\n",
       "      <td>Action and Adventure|Mystery and Suspense</td>\n",
       "      <td>Sam Mendes</td>\n",
       "      <td>John Logan|Robert Wade|Neal Purvis</td>\n",
       "      <td>Nov 9, 2012</td>\n",
       "      <td>Mar 11, 2013</td>\n",
       "      <td>$</td>\n",
       "      <td>299300000.0</td>\n",
       "      <td>145 minutes</td>\n",
       "      <td>MGM</td>\n",
       "    </tr>\n",
       "    <tr>\n",
       "      <th>690</th>\n",
       "      <td>883</td>\n",
       "      <td>Now that Greg Focker is \"in\" with his soon-to-...</td>\n",
       "      <td>PG-13</td>\n",
       "      <td>Comedy</td>\n",
       "      <td>Jay Roach</td>\n",
       "      <td>Jim Herzfeld|John Hamburg</td>\n",
       "      <td>Dec 22, 2004</td>\n",
       "      <td>Apr 26, 2005</td>\n",
       "      <td>$</td>\n",
       "      <td>279167575.0</td>\n",
       "      <td>118 minutes</td>\n",
       "      <td>Universal Pictures</td>\n",
       "    </tr>\n",
       "    <tr>\n",
       "      <th>1117</th>\n",
       "      <td>1442</td>\n",
       "      <td>Youthful wizard Harry Potter returns to the sc...</td>\n",
       "      <td>PG</td>\n",
       "      <td>Kids and Family|Science Fiction and Fantasy</td>\n",
       "      <td>Chris Columbus</td>\n",
       "      <td>Steve Kloves</td>\n",
       "      <td>Nov 15, 2002</td>\n",
       "      <td>Apr 11, 2003</td>\n",
       "      <td>$</td>\n",
       "      <td>261835892.0</td>\n",
       "      <td>161 minutes</td>\n",
       "      <td>Warner Bros. Pictures</td>\n",
       "    </tr>\n",
       "    <tr>\n",
       "      <th>...</th>\n",
       "      <td>...</td>\n",
       "      <td>...</td>\n",
       "      <td>...</td>\n",
       "      <td>...</td>\n",
       "      <td>...</td>\n",
       "      <td>...</td>\n",
       "      <td>...</td>\n",
       "      <td>...</td>\n",
       "      <td>...</td>\n",
       "      <td>...</td>\n",
       "      <td>...</td>\n",
       "      <td>...</td>\n",
       "    </tr>\n",
       "    <tr>\n",
       "      <th>574</th>\n",
       "      <td>744</td>\n",
       "      <td>On a flight home to Chicago for a family weddi...</td>\n",
       "      <td>PG-13</td>\n",
       "      <td>Comedy|Romance</td>\n",
       "      <td>John Burgess</td>\n",
       "      <td>Dode Levenson</td>\n",
       "      <td>Feb 6, 2015</td>\n",
       "      <td>Feb 9, 2015</td>\n",
       "      <td>NaN</td>\n",
       "      <td>0.0</td>\n",
       "      <td>100 minutes</td>\n",
       "      <td>Freestyle Releasing</td>\n",
       "    </tr>\n",
       "    <tr>\n",
       "      <th>573</th>\n",
       "      <td>743</td>\n",
       "      <td>NaN</td>\n",
       "      <td>NR</td>\n",
       "      <td>Drama</td>\n",
       "      <td>NaN</td>\n",
       "      <td>NaN</td>\n",
       "      <td>NaN</td>\n",
       "      <td>NaN</td>\n",
       "      <td>NaN</td>\n",
       "      <td>0.0</td>\n",
       "      <td>NaN</td>\n",
       "      <td>NaN</td>\n",
       "    </tr>\n",
       "    <tr>\n",
       "      <th>572</th>\n",
       "      <td>742</td>\n",
       "      <td>An off-beat love story provides the framework ...</td>\n",
       "      <td>R</td>\n",
       "      <td>Art House and International|Comedy|Drama|Romance</td>\n",
       "      <td>Richard Spence</td>\n",
       "      <td>Tony Merchant</td>\n",
       "      <td>Sep 12, 1997</td>\n",
       "      <td>Feb 13, 2001</td>\n",
       "      <td>NaN</td>\n",
       "      <td>0.0</td>\n",
       "      <td>92 minutes</td>\n",
       "      <td>NaN</td>\n",
       "    </tr>\n",
       "    <tr>\n",
       "      <th>571</th>\n",
       "      <td>741</td>\n",
       "      <td>The fourth (and final</td>\n",
       "      <td>R</td>\n",
       "      <td>Action and Adventure|Mystery and Suspense</td>\n",
       "      <td>Cedric Sundstrom</td>\n",
       "      <td>James Booth|David Geeves</td>\n",
       "      <td>Mar 8, 1991</td>\n",
       "      <td>Dec 6, 2005</td>\n",
       "      <td>NaN</td>\n",
       "      <td>0.0</td>\n",
       "      <td>99 minutes</td>\n",
       "      <td>NaN</td>\n",
       "    </tr>\n",
       "    <tr>\n",
       "      <th>1559</th>\n",
       "      <td>2000</td>\n",
       "      <td>Suspended from the force, Paris cop Hubert is ...</td>\n",
       "      <td>R</td>\n",
       "      <td>Action and Adventure|Art House and Internation...</td>\n",
       "      <td>NaN</td>\n",
       "      <td>Luc Besson</td>\n",
       "      <td>Sep 27, 2001</td>\n",
       "      <td>Feb 11, 2003</td>\n",
       "      <td>NaN</td>\n",
       "      <td>0.0</td>\n",
       "      <td>94 minutes</td>\n",
       "      <td>Columbia Pictures</td>\n",
       "    </tr>\n",
       "  </tbody>\n",
       "</table>\n",
       "<p>1560 rows × 12 columns</p>\n",
       "</div>"
      ],
      "text/plain": [
       "        id                                           synopsis rating  \\\n",
       "827   1071  This depiction of the last 12 hours in the lif...      R   \n",
       "877   1136  The Hobbit: An Unexpected Journey follows titl...  PG-13   \n",
       "1188  1525  In Skyfall, Bond's loyalty to M is tested as h...  PG-13   \n",
       "690    883  Now that Greg Focker is \"in\" with his soon-to-...  PG-13   \n",
       "1117  1442  Youthful wizard Harry Potter returns to the sc...     PG   \n",
       "...    ...                                                ...    ...   \n",
       "574    744  On a flight home to Chicago for a family weddi...  PG-13   \n",
       "573    743                                                NaN     NR   \n",
       "572    742  An off-beat love story provides the framework ...      R   \n",
       "571    741                              The fourth (and final      R   \n",
       "1559  2000  Suspended from the force, Paris cop Hubert is ...      R   \n",
       "\n",
       "                                                  genre          director  \\\n",
       "827                                               Drama        Mel Gibson   \n",
       "877    Action and Adventure|Science Fiction and Fantasy     Peter Jackson   \n",
       "1188          Action and Adventure|Mystery and Suspense        Sam Mendes   \n",
       "690                                              Comedy         Jay Roach   \n",
       "1117        Kids and Family|Science Fiction and Fantasy    Chris Columbus   \n",
       "...                                                 ...               ...   \n",
       "574                                      Comedy|Romance      John Burgess   \n",
       "573                                               Drama               NaN   \n",
       "572    Art House and International|Comedy|Drama|Romance    Richard Spence   \n",
       "571           Action and Adventure|Mystery and Suspense  Cedric Sundstrom   \n",
       "1559  Action and Adventure|Art House and Internation...               NaN   \n",
       "\n",
       "                                                 writer  theater_date  \\\n",
       "827                      Mel Gibson|Benedict Fitzgerald  Feb 25, 2004   \n",
       "877   Peter Jackson|Philippa Boyens|Guillermo del To...  Dec 14, 2012   \n",
       "1188                 John Logan|Robert Wade|Neal Purvis   Nov 9, 2012   \n",
       "690                           Jim Herzfeld|John Hamburg  Dec 22, 2004   \n",
       "1117                                       Steve Kloves  Nov 15, 2002   \n",
       "...                                                 ...           ...   \n",
       "574                                       Dode Levenson   Feb 6, 2015   \n",
       "573                                                 NaN           NaN   \n",
       "572                                       Tony Merchant  Sep 12, 1997   \n",
       "571                            James Booth|David Geeves   Mar 8, 1991   \n",
       "1559                                         Luc Besson  Sep 27, 2001   \n",
       "\n",
       "          dvd_date currency   box_office      runtime                 studio  \n",
       "827   Aug 31, 2004        $  368000000.0  127 minutes   Newmarket Film Group  \n",
       "877   Mar 19, 2013        $  303001229.0  170 minutes           Warner Bros.  \n",
       "1188  Mar 11, 2013        $  299300000.0  145 minutes                    MGM  \n",
       "690   Apr 26, 2005        $  279167575.0  118 minutes     Universal Pictures  \n",
       "1117  Apr 11, 2003        $  261835892.0  161 minutes  Warner Bros. Pictures  \n",
       "...            ...      ...          ...          ...                    ...  \n",
       "574    Feb 9, 2015      NaN          0.0  100 minutes    Freestyle Releasing  \n",
       "573            NaN      NaN          0.0          NaN                    NaN  \n",
       "572   Feb 13, 2001      NaN          0.0   92 minutes                    NaN  \n",
       "571    Dec 6, 2005      NaN          0.0   99 minutes                    NaN  \n",
       "1559  Feb 11, 2003      NaN          0.0   94 minutes      Columbia Pictures  \n",
       "\n",
       "[1560 rows x 12 columns]"
      ]
     },
     "execution_count": 9,
     "metadata": {},
     "output_type": "execute_result"
    }
   ],
   "source": [
    "rt_movie_info['box_office'] = rt_movie_info['box_office'].fillna(0)\n",
    "rt_movie_info = rt_movie_info.sort_values(by=\"box_office\", ascending=False)\n",
    "rt_movie_info"
   ]
  },
  {
   "cell_type": "code",
   "execution_count": 10,
   "metadata": {
    "scrolled": true
   },
   "outputs": [
    {
     "data": {
      "image/png": "[encoded data removed]",
      "text/plain": [
       "<Figure size 864x576 with 1 Axes>"
      ]
     },
     "metadata": {
      "needs_background": "light"
     },
     "output_type": "display_data"
    }
   ],
   "source": [
    "# data visulisation by seaboan barplot\n",
    "plt.figure(figsize = (12,8))\n",
    "ax = sns.barplot(x='studio',y='box_office',data=rt_movie_info.head(10))\n",
    "ax.set_title('Top Studio By Box Office',size=16)\n",
    "ax.set_xticklabels(ax.get_xticklabels(),rotation = 70)\n",
    "plt.yticks(ticks=[0,1e8,2e8,3e8,4e8], labels=['0','100 Million','200 Million','300 Million','400 Million']);"
   ]
  },
  {
   "cell_type": "code",
   "execution_count": 11,
   "metadata": {},
   "outputs": [],
   "source": [
    "# read tn.movie.budgets csv file for table info"
   ]
  },
  {
   "cell_type": "code",
   "execution_count": 12,
   "metadata": {},
   "outputs": [
    {
     "name": "stdout",
     "output_type": "stream",
     "text": [
      "<class 'pandas.core.frame.DataFrame'>\n",
      "RangeIndex: 5782 entries, 0 to 5781\n",
      "Data columns (total 6 columns):\n",
      " #   Column             Non-Null Count  Dtype \n",
      "---  ------             --------------  ----- \n",
      " 0   id                 5782 non-null   int64 \n",
      " 1   release_date       5782 non-null   object\n",
      " 2   movie              5782 non-null   object\n",
      " 3   production_budget  5782 non-null   object\n",
      " 4   domestic_gross     5782 non-null   object\n",
      " 5   worldwide_gross    5782 non-null   object\n",
      "dtypes: int64(1), object(5)\n",
      "memory usage: 271.2+ KB\n"
     ]
    }
   ],
   "source": [
    "movie_budgets = pd.read_csv(\"zippedData/tn.movie_budgets.csv.gz\")\n",
    "movie_budgets.info()"
   ]
  },
  {
   "cell_type": "code",
   "execution_count": 13,
   "metadata": {},
   "outputs": [],
   "source": [
    "# Data cleaning need to change datatype from sting to float for production_budget, domestic_gross and worldwide_gross\n",
    "movie_budgets.production_budget = movie_budgets.production_budget.apply(lambda x: x.strip('$').replace(',','')).astype(float)\n",
    "movie_budgets.domestic_gross = movie_budgets.domestic_gross.apply(lambda x: x.strip('$').replace(',','')).astype(float)\n",
    "movie_budgets.worldwide_gross = movie_budgets.worldwide_gross.apply(lambda x: x.strip('$').replace(',','')).astype(float)"
   ]
  },
  {
   "cell_type": "code",
   "execution_count": 14,
   "metadata": {},
   "outputs": [
    {
     "data": {
      "text/html": [
       "<div>\n",
       "<style scoped>\n",
       "    .dataframe tbody tr th:only-of-type {\n",
       "        vertical-align: middle;\n",
       "    }\n",
       "\n",
       "    .dataframe tbody tr th {\n",
       "        vertical-align: top;\n",
       "    }\n",
       "\n",
       "    .dataframe thead th {\n",
       "        text-align: right;\n",
       "    }\n",
       "</style>\n",
       "<table border=\"1\" class=\"dataframe\">\n",
       "  <thead>\n",
       "    <tr style=\"text-align: right;\">\n",
       "      <th></th>\n",
       "      <th>id</th>\n",
       "      <th>release_date</th>\n",
       "      <th>movie</th>\n",
       "      <th>production_budget</th>\n",
       "      <th>domestic_gross</th>\n",
       "      <th>worldwide_gross</th>\n",
       "    </tr>\n",
       "  </thead>\n",
       "  <tbody>\n",
       "    <tr>\n",
       "      <th>0</th>\n",
       "      <td>1</td>\n",
       "      <td>Dec 18, 2009</td>\n",
       "      <td>Avatar</td>\n",
       "      <td>425000000.0</td>\n",
       "      <td>760507625.0</td>\n",
       "      <td>2.776345e+09</td>\n",
       "    </tr>\n",
       "    <tr>\n",
       "      <th>1</th>\n",
       "      <td>2</td>\n",
       "      <td>May 20, 2011</td>\n",
       "      <td>Pirates of the Caribbean: On Stranger Tides</td>\n",
       "      <td>410600000.0</td>\n",
       "      <td>241063875.0</td>\n",
       "      <td>1.045664e+09</td>\n",
       "    </tr>\n",
       "    <tr>\n",
       "      <th>2</th>\n",
       "      <td>3</td>\n",
       "      <td>Jun 7, 2019</td>\n",
       "      <td>Dark Phoenix</td>\n",
       "      <td>350000000.0</td>\n",
       "      <td>42762350.0</td>\n",
       "      <td>1.497624e+08</td>\n",
       "    </tr>\n",
       "    <tr>\n",
       "      <th>3</th>\n",
       "      <td>4</td>\n",
       "      <td>May 1, 2015</td>\n",
       "      <td>Avengers: Age of Ultron</td>\n",
       "      <td>330600000.0</td>\n",
       "      <td>459005868.0</td>\n",
       "      <td>1.403014e+09</td>\n",
       "    </tr>\n",
       "    <tr>\n",
       "      <th>4</th>\n",
       "      <td>5</td>\n",
       "      <td>Dec 15, 2017</td>\n",
       "      <td>Star Wars Ep. VIII: The Last Jedi</td>\n",
       "      <td>317000000.0</td>\n",
       "      <td>620181382.0</td>\n",
       "      <td>1.316722e+09</td>\n",
       "    </tr>\n",
       "    <tr>\n",
       "      <th>...</th>\n",
       "      <td>...</td>\n",
       "      <td>...</td>\n",
       "      <td>...</td>\n",
       "      <td>...</td>\n",
       "      <td>...</td>\n",
       "      <td>...</td>\n",
       "    </tr>\n",
       "    <tr>\n",
       "      <th>5777</th>\n",
       "      <td>78</td>\n",
       "      <td>Dec 31, 2018</td>\n",
       "      <td>Red 11</td>\n",
       "      <td>7000.0</td>\n",
       "      <td>0.0</td>\n",
       "      <td>0.000000e+00</td>\n",
       "    </tr>\n",
       "    <tr>\n",
       "      <th>5778</th>\n",
       "      <td>79</td>\n",
       "      <td>Apr 2, 1999</td>\n",
       "      <td>Following</td>\n",
       "      <td>6000.0</td>\n",
       "      <td>48482.0</td>\n",
       "      <td>2.404950e+05</td>\n",
       "    </tr>\n",
       "    <tr>\n",
       "      <th>5779</th>\n",
       "      <td>80</td>\n",
       "      <td>Jul 13, 2005</td>\n",
       "      <td>Return to the Land of Wonders</td>\n",
       "      <td>5000.0</td>\n",
       "      <td>1338.0</td>\n",
       "      <td>1.338000e+03</td>\n",
       "    </tr>\n",
       "    <tr>\n",
       "      <th>5780</th>\n",
       "      <td>81</td>\n",
       "      <td>Sep 29, 2015</td>\n",
       "      <td>A Plague So Pleasant</td>\n",
       "      <td>1400.0</td>\n",
       "      <td>0.0</td>\n",
       "      <td>0.000000e+00</td>\n",
       "    </tr>\n",
       "    <tr>\n",
       "      <th>5781</th>\n",
       "      <td>82</td>\n",
       "      <td>Aug 5, 2005</td>\n",
       "      <td>My Date With Drew</td>\n",
       "      <td>1100.0</td>\n",
       "      <td>181041.0</td>\n",
       "      <td>1.810410e+05</td>\n",
       "    </tr>\n",
       "  </tbody>\n",
       "</table>\n",
       "<p>5782 rows × 6 columns</p>\n",
       "</div>"
      ],
      "text/plain": [
       "      id  release_date                                        movie  \\\n",
       "0      1  Dec 18, 2009                                       Avatar   \n",
       "1      2  May 20, 2011  Pirates of the Caribbean: On Stranger Tides   \n",
       "2      3   Jun 7, 2019                                 Dark Phoenix   \n",
       "3      4   May 1, 2015                      Avengers: Age of Ultron   \n",
       "4      5  Dec 15, 2017            Star Wars Ep. VIII: The Last Jedi   \n",
       "...   ..           ...                                          ...   \n",
       "5777  78  Dec 31, 2018                                       Red 11   \n",
       "5778  79   Apr 2, 1999                                    Following   \n",
       "5779  80  Jul 13, 2005                Return to the Land of Wonders   \n",
       "5780  81  Sep 29, 2015                         A Plague So Pleasant   \n",
       "5781  82   Aug 5, 2005                            My Date With Drew   \n",
       "\n",
       "      production_budget  domestic_gross  worldwide_gross  \n",
       "0           425000000.0     760507625.0     2.776345e+09  \n",
       "1           410600000.0     241063875.0     1.045664e+09  \n",
       "2           350000000.0      42762350.0     1.497624e+08  \n",
       "3           330600000.0     459005868.0     1.403014e+09  \n",
       "4           317000000.0     620181382.0     1.316722e+09  \n",
       "...                 ...             ...              ...  \n",
       "5777             7000.0             0.0     0.000000e+00  \n",
       "5778             6000.0         48482.0     2.404950e+05  \n",
       "5779             5000.0          1338.0     1.338000e+03  \n",
       "5780             1400.0             0.0     0.000000e+00  \n",
       "5781             1100.0        181041.0     1.810410e+05  \n",
       "\n",
       "[5782 rows x 6 columns]"
      ]
     },
     "execution_count": 14,
     "metadata": {},
     "output_type": "execute_result"
    }
   ],
   "source": [
    "movie_budgets"
   ]
  },
  {
   "cell_type": "code",
   "execution_count": 15,
   "metadata": {},
   "outputs": [],
   "source": [
    "# worldwide_gross numbers are now expressed in scientific notetion like e+09"
   ]
  },
  {
   "cell_type": "code",
   "execution_count": 16,
   "metadata": {},
   "outputs": [
    {
     "data": {
      "text/html": [
       "<div>\n",
       "<style scoped>\n",
       "    .dataframe tbody tr th:only-of-type {\n",
       "        vertical-align: middle;\n",
       "    }\n",
       "\n",
       "    .dataframe tbody tr th {\n",
       "        vertical-align: top;\n",
       "    }\n",
       "\n",
       "    .dataframe thead th {\n",
       "        text-align: right;\n",
       "    }\n",
       "</style>\n",
       "<table border=\"1\" class=\"dataframe\">\n",
       "  <thead>\n",
       "    <tr style=\"text-align: right;\">\n",
       "      <th></th>\n",
       "      <th>id</th>\n",
       "      <th>release_date</th>\n",
       "      <th>movie</th>\n",
       "      <th>production_budget</th>\n",
       "      <th>domestic_gross</th>\n",
       "      <th>worldwide_gross</th>\n",
       "      <th>profit_domestic</th>\n",
       "      <th>profit_worldwide</th>\n",
       "    </tr>\n",
       "  </thead>\n",
       "  <tbody>\n",
       "    <tr>\n",
       "      <th>0</th>\n",
       "      <td>1</td>\n",
       "      <td>Dec 18, 2009</td>\n",
       "      <td>Avatar</td>\n",
       "      <td>425000000.0</td>\n",
       "      <td>760507625.0</td>\n",
       "      <td>2.776345e+09</td>\n",
       "      <td>335.507625</td>\n",
       "      <td>2351.345279</td>\n",
       "    </tr>\n",
       "    <tr>\n",
       "      <th>1</th>\n",
       "      <td>2</td>\n",
       "      <td>May 20, 2011</td>\n",
       "      <td>Pirates of the Caribbean: On Stranger Tides</td>\n",
       "      <td>410600000.0</td>\n",
       "      <td>241063875.0</td>\n",
       "      <td>1.045664e+09</td>\n",
       "      <td>-169.536125</td>\n",
       "      <td>635.063875</td>\n",
       "    </tr>\n",
       "    <tr>\n",
       "      <th>2</th>\n",
       "      <td>3</td>\n",
       "      <td>Jun 7, 2019</td>\n",
       "      <td>Dark Phoenix</td>\n",
       "      <td>350000000.0</td>\n",
       "      <td>42762350.0</td>\n",
       "      <td>1.497624e+08</td>\n",
       "      <td>-307.237650</td>\n",
       "      <td>-200.237650</td>\n",
       "    </tr>\n",
       "    <tr>\n",
       "      <th>3</th>\n",
       "      <td>4</td>\n",
       "      <td>May 1, 2015</td>\n",
       "      <td>Avengers: Age of Ultron</td>\n",
       "      <td>330600000.0</td>\n",
       "      <td>459005868.0</td>\n",
       "      <td>1.403014e+09</td>\n",
       "      <td>128.405868</td>\n",
       "      <td>1072.413963</td>\n",
       "    </tr>\n",
       "    <tr>\n",
       "      <th>4</th>\n",
       "      <td>5</td>\n",
       "      <td>Dec 15, 2017</td>\n",
       "      <td>Star Wars Ep. VIII: The Last Jedi</td>\n",
       "      <td>317000000.0</td>\n",
       "      <td>620181382.0</td>\n",
       "      <td>1.316722e+09</td>\n",
       "      <td>303.181382</td>\n",
       "      <td>999.721747</td>\n",
       "    </tr>\n",
       "  </tbody>\n",
       "</table>\n",
       "</div>"
      ],
      "text/plain": [
       "   id  release_date                                        movie  \\\n",
       "0   1  Dec 18, 2009                                       Avatar   \n",
       "1   2  May 20, 2011  Pirates of the Caribbean: On Stranger Tides   \n",
       "2   3   Jun 7, 2019                                 Dark Phoenix   \n",
       "3   4   May 1, 2015                      Avengers: Age of Ultron   \n",
       "4   5  Dec 15, 2017            Star Wars Ep. VIII: The Last Jedi   \n",
       "\n",
       "   production_budget  domestic_gross  worldwide_gross  profit_domestic  \\\n",
       "0        425000000.0     760507625.0     2.776345e+09       335.507625   \n",
       "1        410600000.0     241063875.0     1.045664e+09      -169.536125   \n",
       "2        350000000.0      42762350.0     1.497624e+08      -307.237650   \n",
       "3        330600000.0     459005868.0     1.403014e+09       128.405868   \n",
       "4        317000000.0     620181382.0     1.316722e+09       303.181382   \n",
       "\n",
       "   profit_worldwide  \n",
       "0       2351.345279  \n",
       "1        635.063875  \n",
       "2       -200.237650  \n",
       "3       1072.413963  \n",
       "4        999.721747  "
      ]
     },
     "execution_count": 16,
     "metadata": {},
     "output_type": "execute_result"
    }
   ],
   "source": [
    "# find out domestic and worldwide profit from budget.\n",
    "movie_budgets['profit_domestic'] = (movie_budgets['domestic_gross'] - movie_budgets['production_budget']) /1000000\n",
    "movie_budgets['profit_worldwide'] = (movie_budgets['worldwide_gross'] - movie_budgets['production_budget']) /1000000\n",
    "movie_budgets.head()"
   ]
  },
  {
   "cell_type": "code",
   "execution_count": 17,
   "metadata": {},
   "outputs": [
    {
     "data": {
      "text/plain": [
       "{'Star Wars Ep. VII: The Force Awakens': 630.662225,\n",
       " 'Black Panther': 500.059566,\n",
       " 'Titanic': 459.363944,\n",
       " 'Star Wars Ep. IV: A New Hope': 449.998007,\n",
       " 'Jurassic World': 437.270625,\n",
       " 'ET: The Extra-Terrestrial': 424.610554,\n",
       " 'Incredibles 2': 408.581744,\n",
       " 'The Avengers': 398.279547,\n",
       " 'Avengers: Infinity War': 378.815482,\n",
       " 'Shrek 2': 371.226247}"
      ]
     },
     "execution_count": 17,
     "metadata": {},
     "output_type": "execute_result"
    }
   ],
   "source": [
    "# Top ten domestic profit making movies\n",
    "top_ten_dom = dict(movie_budgets[['movie','profit_domestic']].sort_values(by = 'profit_domestic',ascending=False)[:10].values)\n",
    "top_ten_dom"
   ]
  },
  {
   "cell_type": "code",
   "execution_count": 18,
   "metadata": {},
   "outputs": [
    {
     "data": {
      "text/plain": [
       "{'Avatar': 2351.345279,\n",
       " 'Titanic': 2008.208395,\n",
       " 'Avengers: Infinity War': 1748.1342,\n",
       " 'Star Wars Ep. VII: The Force Awakens': 1747.31122,\n",
       " 'Jurassic World': 1433.854864,\n",
       " 'Furious 7': 1328.722794,\n",
       " 'The Avengers': 1292.935897,\n",
       " 'Harry Potter and the Deathly Hallows: Part II': 1216.693157,\n",
       " 'Black Panther': 1148.258224,\n",
       " 'Jurassic World: Fallen Kingdom': 1135.772799}"
      ]
     },
     "execution_count": 18,
     "metadata": {},
     "output_type": "execute_result"
    }
   ],
   "source": [
    "# top ten worldwide profit making movies\n",
    "top_ten_ww = dict(movie_budgets[['movie','profit_worldwide']].sort_values(by = 'profit_worldwide',ascending=False)[:10].values)\n",
    "top_ten_ww"
   ]
  },
  {
   "cell_type": "code",
   "execution_count": 19,
   "metadata": {},
   "outputs": [],
   "source": [
    "#define the value and key for visulisation\n",
    "movie_name = list(top_ten_dom.keys())\n",
    "profit_domestic = list(top_ten_dom.values())\n",
    "movie_name_ww = list(top_ten_ww.keys())\n",
    "profit_worldwide = list(top_ten_ww.values())"
   ]
  },
  {
   "cell_type": "code",
   "execution_count": 20,
   "metadata": {},
   "outputs": [
    {
     "data": {
      "image/png": "[encoded data removed]",
      "text/plain": [
       "<Figure size 1008x432 with 2 Axes>"
      ]
     },
     "metadata": {
      "needs_background": "light"
     },
     "output_type": "display_data"
    }
   ],
   "source": [
    "ncols=2\n",
    "fig, ax = plt.subplots(figsize=(14,6), ncols=2)\n",
    "\n",
    "# Top ten domestic profit making movies\n",
    "ax[0].bar(x=movie_name, height=profit_domestic, color='green')\n",
    "ax[0].set_title('Top Ten Domestic Profit Making Movie',size=16)\n",
    "ax[0].set_xlabel('Movie Name')\n",
    "ax[0].set_ylabel('Profit Domestic')\n",
    "ax[0].set_yticks(range(0,650,50))\n",
    "ax[0].tick_params(axis='x', labelrotation = 90)\n",
    "ax[0].legend([\"Profit in Millon\"], loc=1);\n",
    "\n",
    " #top ten worldwide profit making movie\n",
    "ax[1].bar(x=movie_name_ww, height=profit_worldwide, color='blue')\n",
    "ax[1].set_title('Top Ten Worldwide Profit Making Movie',size=16)\n",
    "ax[1].set_xlabel('Movie Name')\n",
    "ax[1].set_ylabel('Profit Worldwide')\n",
    "#ax[1].set_yticks(range(0,650,50))\n",
    "ax[1].tick_params(axis='x', labelrotation = 90)\n",
    "ax[1].legend([\"Profit in Millon\"], loc=1);"
   ]
  },
  {
   "cell_type": "markdown",
   "metadata": {},
   "source": [
    "**Most revenue earning studio (domestic gross and foreign gross)**"
   ]
  },
  {
   "cell_type": "code",
   "execution_count": 21,
   "metadata": {},
   "outputs": [],
   "source": [
    "# read bom_movie_gross cvs file and check the datatype"
   ]
  },
  {
   "cell_type": "code",
   "execution_count": 22,
   "metadata": {},
   "outputs": [
    {
     "name": "stdout",
     "output_type": "stream",
     "text": [
      "<class 'pandas.core.frame.DataFrame'>\n",
      "RangeIndex: 3387 entries, 0 to 3386\n",
      "Data columns (total 5 columns):\n",
      " #   Column          Non-Null Count  Dtype  \n",
      "---  ------          --------------  -----  \n",
      " 0   title           3387 non-null   object \n",
      " 1   studio          3382 non-null   object \n",
      " 2   domestic_gross  3359 non-null   float64\n",
      " 3   foreign_gross   2037 non-null   object \n",
      " 4   year            3387 non-null   int64  \n",
      "dtypes: float64(1), int64(1), object(3)\n",
      "memory usage: 132.4+ KB\n"
     ]
    }
   ],
   "source": [
    "bom_movie_gross = pd.read_csv(\"zippedData/bom.movie_gross.csv.gz\")\n",
    "bom_movie_gross.info()"
   ]
  },
  {
   "cell_type": "code",
   "execution_count": 23,
   "metadata": {},
   "outputs": [],
   "source": [
    "# as you see above foreign_gross is showing data in string\n",
    "# Data cleaning change foreign_gross is string change to float \n",
    "bom_movie_gross.foreign_gross = bom_movie_gross.foreign_gross.str.replace(',','').astype(float)"
   ]
  },
  {
   "cell_type": "code",
   "execution_count": 24,
   "metadata": {},
   "outputs": [
    {
     "name": "stdout",
     "output_type": "stream",
     "text": [
      "<class 'pandas.core.frame.DataFrame'>\n",
      "RangeIndex: 3387 entries, 0 to 3386\n",
      "Data columns (total 5 columns):\n",
      " #   Column          Non-Null Count  Dtype  \n",
      "---  ------          --------------  -----  \n",
      " 0   title           3387 non-null   object \n",
      " 1   studio          3382 non-null   object \n",
      " 2   domestic_gross  3359 non-null   float64\n",
      " 3   foreign_gross   3387 non-null   float64\n",
      " 4   year            3387 non-null   int64  \n",
      "dtypes: float64(2), int64(1), object(2)\n",
      "memory usage: 132.4+ KB\n"
     ]
    }
   ],
   "source": [
    "# change value from NAN to 0\n",
    "bom_movie_gross.foreign_gross = bom_movie_gross.foreign_gross.fillna(0)\n",
    "bom_movie_gross.info()"
   ]
  },
  {
   "cell_type": "code",
   "execution_count": 25,
   "metadata": {},
   "outputs": [
    {
     "data": {
      "text/html": [
       "<div>\n",
       "<style scoped>\n",
       "    .dataframe tbody tr th:only-of-type {\n",
       "        vertical-align: middle;\n",
       "    }\n",
       "\n",
       "    .dataframe tbody tr th {\n",
       "        vertical-align: top;\n",
       "    }\n",
       "\n",
       "    .dataframe thead th {\n",
       "        text-align: right;\n",
       "    }\n",
       "</style>\n",
       "<table border=\"1\" class=\"dataframe\">\n",
       "  <thead>\n",
       "    <tr style=\"text-align: right;\">\n",
       "      <th></th>\n",
       "      <th>title</th>\n",
       "      <th>studio</th>\n",
       "      <th>domestic_gross</th>\n",
       "      <th>foreign_gross</th>\n",
       "      <th>year</th>\n",
       "    </tr>\n",
       "  </thead>\n",
       "  <tbody>\n",
       "    <tr>\n",
       "      <th>0</th>\n",
       "      <td>Toy Story 3</td>\n",
       "      <td>BV</td>\n",
       "      <td>415000000.0</td>\n",
       "      <td>652000000.0</td>\n",
       "      <td>2010</td>\n",
       "    </tr>\n",
       "    <tr>\n",
       "      <th>1</th>\n",
       "      <td>Alice in Wonderland (2010)</td>\n",
       "      <td>BV</td>\n",
       "      <td>334200000.0</td>\n",
       "      <td>691300000.0</td>\n",
       "      <td>2010</td>\n",
       "    </tr>\n",
       "    <tr>\n",
       "      <th>2</th>\n",
       "      <td>Harry Potter and the Deathly Hallows Part 1</td>\n",
       "      <td>WB</td>\n",
       "      <td>296000000.0</td>\n",
       "      <td>664300000.0</td>\n",
       "      <td>2010</td>\n",
       "    </tr>\n",
       "    <tr>\n",
       "      <th>3</th>\n",
       "      <td>Inception</td>\n",
       "      <td>WB</td>\n",
       "      <td>292600000.0</td>\n",
       "      <td>535700000.0</td>\n",
       "      <td>2010</td>\n",
       "    </tr>\n",
       "    <tr>\n",
       "      <th>4</th>\n",
       "      <td>Shrek Forever After</td>\n",
       "      <td>P/DW</td>\n",
       "      <td>238700000.0</td>\n",
       "      <td>513900000.0</td>\n",
       "      <td>2010</td>\n",
       "    </tr>\n",
       "    <tr>\n",
       "      <th>...</th>\n",
       "      <td>...</td>\n",
       "      <td>...</td>\n",
       "      <td>...</td>\n",
       "      <td>...</td>\n",
       "      <td>...</td>\n",
       "    </tr>\n",
       "    <tr>\n",
       "      <th>3382</th>\n",
       "      <td>The Quake</td>\n",
       "      <td>Magn.</td>\n",
       "      <td>6200.0</td>\n",
       "      <td>0.0</td>\n",
       "      <td>2018</td>\n",
       "    </tr>\n",
       "    <tr>\n",
       "      <th>3383</th>\n",
       "      <td>Edward II (2018 re-release)</td>\n",
       "      <td>FM</td>\n",
       "      <td>4800.0</td>\n",
       "      <td>0.0</td>\n",
       "      <td>2018</td>\n",
       "    </tr>\n",
       "    <tr>\n",
       "      <th>3384</th>\n",
       "      <td>El Pacto</td>\n",
       "      <td>Sony</td>\n",
       "      <td>2500.0</td>\n",
       "      <td>0.0</td>\n",
       "      <td>2018</td>\n",
       "    </tr>\n",
       "    <tr>\n",
       "      <th>3385</th>\n",
       "      <td>The Swan</td>\n",
       "      <td>Synergetic</td>\n",
       "      <td>2400.0</td>\n",
       "      <td>0.0</td>\n",
       "      <td>2018</td>\n",
       "    </tr>\n",
       "    <tr>\n",
       "      <th>3386</th>\n",
       "      <td>An Actor Prepares</td>\n",
       "      <td>Grav.</td>\n",
       "      <td>1700.0</td>\n",
       "      <td>0.0</td>\n",
       "      <td>2018</td>\n",
       "    </tr>\n",
       "  </tbody>\n",
       "</table>\n",
       "<p>3387 rows × 5 columns</p>\n",
       "</div>"
      ],
      "text/plain": [
       "                                            title      studio  domestic_gross  \\\n",
       "0                                     Toy Story 3          BV     415000000.0   \n",
       "1                      Alice in Wonderland (2010)          BV     334200000.0   \n",
       "2     Harry Potter and the Deathly Hallows Part 1          WB     296000000.0   \n",
       "3                                       Inception          WB     292600000.0   \n",
       "4                             Shrek Forever After        P/DW     238700000.0   \n",
       "...                                           ...         ...             ...   \n",
       "3382                                    The Quake       Magn.          6200.0   \n",
       "3383                  Edward II (2018 re-release)          FM          4800.0   \n",
       "3384                                     El Pacto        Sony          2500.0   \n",
       "3385                                     The Swan  Synergetic          2400.0   \n",
       "3386                            An Actor Prepares       Grav.          1700.0   \n",
       "\n",
       "      foreign_gross  year  \n",
       "0       652000000.0  2010  \n",
       "1       691300000.0  2010  \n",
       "2       664300000.0  2010  \n",
       "3       535700000.0  2010  \n",
       "4       513900000.0  2010  \n",
       "...             ...   ...  \n",
       "3382            0.0  2018  \n",
       "3383            0.0  2018  \n",
       "3384            0.0  2018  \n",
       "3385            0.0  2018  \n",
       "3386            0.0  2018  \n",
       "\n",
       "[3387 rows x 5 columns]"
      ]
     },
     "execution_count": 25,
     "metadata": {},
     "output_type": "execute_result"
    }
   ],
   "source": [
    "bom_movie_gross"
   ]
  },
  {
   "cell_type": "code",
   "execution_count": 26,
   "metadata": {},
   "outputs": [
    {
     "data": {
      "text/html": [
       "<div>\n",
       "<style scoped>\n",
       "    .dataframe tbody tr th:only-of-type {\n",
       "        vertical-align: middle;\n",
       "    }\n",
       "\n",
       "    .dataframe tbody tr th {\n",
       "        vertical-align: top;\n",
       "    }\n",
       "\n",
       "    .dataframe thead th {\n",
       "        text-align: right;\n",
       "    }\n",
       "</style>\n",
       "<table border=\"1\" class=\"dataframe\">\n",
       "  <thead>\n",
       "    <tr style=\"text-align: right;\">\n",
       "      <th></th>\n",
       "      <th>domestic_gross</th>\n",
       "      <th>foreign_gross</th>\n",
       "    </tr>\n",
       "    <tr>\n",
       "      <th>studio</th>\n",
       "      <th></th>\n",
       "      <th></th>\n",
       "    </tr>\n",
       "  </thead>\n",
       "  <tbody>\n",
       "    <tr>\n",
       "      <th>HC</th>\n",
       "      <td>2.700000e+06</td>\n",
       "      <td>8.676000e+08</td>\n",
       "    </tr>\n",
       "    <tr>\n",
       "      <th>P/DW</th>\n",
       "      <td>1.682900e+08</td>\n",
       "      <td>3.393600e+08</td>\n",
       "    </tr>\n",
       "    <tr>\n",
       "      <th>BV</th>\n",
       "      <td>1.737644e+08</td>\n",
       "      <td>2.433383e+08</td>\n",
       "    </tr>\n",
       "    <tr>\n",
       "      <th>GrtIndia</th>\n",
       "      <td>2.020000e+07</td>\n",
       "      <td>2.340000e+08</td>\n",
       "    </tr>\n",
       "    <tr>\n",
       "      <th>Fox</th>\n",
       "      <td>8.051103e+07</td>\n",
       "      <td>1.474696e+08</td>\n",
       "    </tr>\n",
       "    <tr>\n",
       "      <th>...</th>\n",
       "      <td>...</td>\n",
       "      <td>...</td>\n",
       "    </tr>\n",
       "    <tr>\n",
       "      <th>ELS</th>\n",
       "      <td>2.300000e+06</td>\n",
       "      <td>0.000000e+00</td>\n",
       "    </tr>\n",
       "    <tr>\n",
       "      <th>SM</th>\n",
       "      <td>1.570000e+05</td>\n",
       "      <td>0.000000e+00</td>\n",
       "    </tr>\n",
       "    <tr>\n",
       "      <th>BM&amp;DH</th>\n",
       "      <td>1.660000e+05</td>\n",
       "      <td>0.000000e+00</td>\n",
       "    </tr>\n",
       "    <tr>\n",
       "      <th>CLF</th>\n",
       "      <td>2.000000e+06</td>\n",
       "      <td>0.000000e+00</td>\n",
       "    </tr>\n",
       "    <tr>\n",
       "      <th>EXCL</th>\n",
       "      <td>3.190000e+05</td>\n",
       "      <td>0.000000e+00</td>\n",
       "    </tr>\n",
       "  </tbody>\n",
       "</table>\n",
       "<p>257 rows × 2 columns</p>\n",
       "</div>"
      ],
      "text/plain": [
       "          domestic_gross  foreign_gross\n",
       "studio                                 \n",
       "HC          2.700000e+06   8.676000e+08\n",
       "P/DW        1.682900e+08   3.393600e+08\n",
       "BV          1.737644e+08   2.433383e+08\n",
       "GrtIndia    2.020000e+07   2.340000e+08\n",
       "Fox         8.051103e+07   1.474696e+08\n",
       "...                  ...            ...\n",
       "ELS         2.300000e+06   0.000000e+00\n",
       "SM          1.570000e+05   0.000000e+00\n",
       "BM&DH       1.660000e+05   0.000000e+00\n",
       "CLF         2.000000e+06   0.000000e+00\n",
       "EXCL        3.190000e+05   0.000000e+00\n",
       "\n",
       "[257 rows x 2 columns]"
      ]
     },
     "execution_count": 26,
     "metadata": {},
     "output_type": "execute_result"
    }
   ],
   "source": [
    "# extract the 3 column and sort\n",
    "df_studio = bom_movie_gross[['studio','domestic_gross','foreign_gross']]\n",
    "df_studio = df_studio.groupby('studio').mean()\n",
    "df_studio = df_studio.sort_values(by=('domestic_gross'),ascending=False)\n",
    "df_studio = df_studio.sort_values(by=('foreign_gross'),ascending=False)\n",
    "df_studio"
   ]
  },
  {
   "cell_type": "code",
   "execution_count": 27,
   "metadata": {},
   "outputs": [],
   "source": [
    "df_studio = df_studio.head(20)"
   ]
  },
  {
   "cell_type": "code",
   "execution_count": 28,
   "metadata": {
    "scrolled": false
   },
   "outputs": [
    {
     "data": {
      "image/png": "[encoded data removed]",
      "text/plain": [
       "<Figure size 720x432 with 1 Axes>"
      ]
     },
     "metadata": {
      "needs_background": "light"
     },
     "output_type": "display_data"
    }
   ],
   "source": [
    "# data visulisation in barplot with revenue of domestic and foreign gross value in million\n",
    "df_studio.plot(kind='bar', figsize = (10,6))\n",
    "plt.title('Studio Vs Revenue Domestic & Foreign', size=14)\n",
    "plt.ylabel('Revenue')\n",
    "plt.yticks(ticks=[0,2e8,4e8,6e8,8e8], labels=['0','200 Million','400 Million','600 Million','800 Million']);"
   ]
  },
  {
   "cell_type": "markdown",
   "metadata": {},
   "source": [
    "**Averagerating by genres**\n"
   ]
  },
  {
   "cell_type": "code",
   "execution_count": 29,
   "metadata": {},
   "outputs": [],
   "source": [
    "# create the connection by sql\n",
    "conn = sqlite3.connect(\"im.db\")"
   ]
  },
  {
   "cell_type": "code",
   "execution_count": 30,
   "metadata": {},
   "outputs": [
    {
     "data": {
      "text/html": [
       "<div>\n",
       "<style scoped>\n",
       "    .dataframe tbody tr th:only-of-type {\n",
       "        vertical-align: middle;\n",
       "    }\n",
       "\n",
       "    .dataframe tbody tr th {\n",
       "        vertical-align: top;\n",
       "    }\n",
       "\n",
       "    .dataframe thead th {\n",
       "        text-align: right;\n",
       "    }\n",
       "</style>\n",
       "<table border=\"1\" class=\"dataframe\">\n",
       "  <thead>\n",
       "    <tr style=\"text-align: right;\">\n",
       "      <th></th>\n",
       "      <th>movie_id</th>\n",
       "      <th>primary_title</th>\n",
       "      <th>original_title</th>\n",
       "      <th>start_year</th>\n",
       "      <th>runtime_minutes</th>\n",
       "      <th>genres</th>\n",
       "      <th>averagerating</th>\n",
       "      <th>numvotes</th>\n",
       "    </tr>\n",
       "  </thead>\n",
       "  <tbody>\n",
       "    <tr>\n",
       "      <th>0</th>\n",
       "      <td>tt0063540</td>\n",
       "      <td>Sunghursh</td>\n",
       "      <td>Sunghursh</td>\n",
       "      <td>2013</td>\n",
       "      <td>175.0</td>\n",
       "      <td>Action,Crime,Drama</td>\n",
       "      <td>7.0</td>\n",
       "      <td>77</td>\n",
       "    </tr>\n",
       "    <tr>\n",
       "      <th>1</th>\n",
       "      <td>tt0066787</td>\n",
       "      <td>One Day Before the Rainy Season</td>\n",
       "      <td>Ashad Ka Ek Din</td>\n",
       "      <td>2019</td>\n",
       "      <td>114.0</td>\n",
       "      <td>Biography,Drama</td>\n",
       "      <td>7.2</td>\n",
       "      <td>43</td>\n",
       "    </tr>\n",
       "    <tr>\n",
       "      <th>2</th>\n",
       "      <td>tt0069049</td>\n",
       "      <td>The Other Side of the Wind</td>\n",
       "      <td>The Other Side of the Wind</td>\n",
       "      <td>2018</td>\n",
       "      <td>122.0</td>\n",
       "      <td>Drama</td>\n",
       "      <td>6.9</td>\n",
       "      <td>4517</td>\n",
       "    </tr>\n",
       "    <tr>\n",
       "      <th>3</th>\n",
       "      <td>tt0069204</td>\n",
       "      <td>Sabse Bada Sukh</td>\n",
       "      <td>Sabse Bada Sukh</td>\n",
       "      <td>2018</td>\n",
       "      <td>NaN</td>\n",
       "      <td>Comedy,Drama</td>\n",
       "      <td>6.1</td>\n",
       "      <td>13</td>\n",
       "    </tr>\n",
       "    <tr>\n",
       "      <th>4</th>\n",
       "      <td>tt0100275</td>\n",
       "      <td>The Wandering Soap Opera</td>\n",
       "      <td>La Telenovela Errante</td>\n",
       "      <td>2017</td>\n",
       "      <td>80.0</td>\n",
       "      <td>Comedy,Drama,Fantasy</td>\n",
       "      <td>6.5</td>\n",
       "      <td>119</td>\n",
       "    </tr>\n",
       "    <tr>\n",
       "      <th>...</th>\n",
       "      <td>...</td>\n",
       "      <td>...</td>\n",
       "      <td>...</td>\n",
       "      <td>...</td>\n",
       "      <td>...</td>\n",
       "      <td>...</td>\n",
       "      <td>...</td>\n",
       "      <td>...</td>\n",
       "    </tr>\n",
       "    <tr>\n",
       "      <th>73851</th>\n",
       "      <td>tt9913084</td>\n",
       "      <td>Diabolik sono io</td>\n",
       "      <td>Diabolik sono io</td>\n",
       "      <td>2019</td>\n",
       "      <td>75.0</td>\n",
       "      <td>Documentary</td>\n",
       "      <td>6.2</td>\n",
       "      <td>6</td>\n",
       "    </tr>\n",
       "    <tr>\n",
       "      <th>73852</th>\n",
       "      <td>tt9914286</td>\n",
       "      <td>Sokagin Çocuklari</td>\n",
       "      <td>Sokagin Çocuklari</td>\n",
       "      <td>2019</td>\n",
       "      <td>98.0</td>\n",
       "      <td>Drama,Family</td>\n",
       "      <td>8.7</td>\n",
       "      <td>136</td>\n",
       "    </tr>\n",
       "    <tr>\n",
       "      <th>73853</th>\n",
       "      <td>tt9914642</td>\n",
       "      <td>Albatross</td>\n",
       "      <td>Albatross</td>\n",
       "      <td>2017</td>\n",
       "      <td>NaN</td>\n",
       "      <td>Documentary</td>\n",
       "      <td>8.5</td>\n",
       "      <td>8</td>\n",
       "    </tr>\n",
       "    <tr>\n",
       "      <th>73854</th>\n",
       "      <td>tt9914942</td>\n",
       "      <td>La vida sense la Sara Amat</td>\n",
       "      <td>La vida sense la Sara Amat</td>\n",
       "      <td>2019</td>\n",
       "      <td>NaN</td>\n",
       "      <td>None</td>\n",
       "      <td>6.6</td>\n",
       "      <td>5</td>\n",
       "    </tr>\n",
       "    <tr>\n",
       "      <th>73855</th>\n",
       "      <td>tt9916160</td>\n",
       "      <td>Drømmeland</td>\n",
       "      <td>Drømmeland</td>\n",
       "      <td>2019</td>\n",
       "      <td>72.0</td>\n",
       "      <td>Documentary</td>\n",
       "      <td>6.5</td>\n",
       "      <td>11</td>\n",
       "    </tr>\n",
       "  </tbody>\n",
       "</table>\n",
       "<p>73856 rows × 8 columns</p>\n",
       "</div>"
      ],
      "text/plain": [
       "        movie_id                    primary_title              original_title  \\\n",
       "0      tt0063540                        Sunghursh                   Sunghursh   \n",
       "1      tt0066787  One Day Before the Rainy Season             Ashad Ka Ek Din   \n",
       "2      tt0069049       The Other Side of the Wind  The Other Side of the Wind   \n",
       "3      tt0069204                  Sabse Bada Sukh             Sabse Bada Sukh   \n",
       "4      tt0100275         The Wandering Soap Opera       La Telenovela Errante   \n",
       "...          ...                              ...                         ...   \n",
       "73851  tt9913084                 Diabolik sono io            Diabolik sono io   \n",
       "73852  tt9914286                Sokagin Çocuklari           Sokagin Çocuklari   \n",
       "73853  tt9914642                        Albatross                   Albatross   \n",
       "73854  tt9914942       La vida sense la Sara Amat  La vida sense la Sara Amat   \n",
       "73855  tt9916160                       Drømmeland                  Drømmeland   \n",
       "\n",
       "       start_year  runtime_minutes                genres  averagerating  \\\n",
       "0            2013            175.0    Action,Crime,Drama            7.0   \n",
       "1            2019            114.0       Biography,Drama            7.2   \n",
       "2            2018            122.0                 Drama            6.9   \n",
       "3            2018              NaN          Comedy,Drama            6.1   \n",
       "4            2017             80.0  Comedy,Drama,Fantasy            6.5   \n",
       "...           ...              ...                   ...            ...   \n",
       "73851        2019             75.0           Documentary            6.2   \n",
       "73852        2019             98.0          Drama,Family            8.7   \n",
       "73853        2017              NaN           Documentary            8.5   \n",
       "73854        2019              NaN                  None            6.6   \n",
       "73855        2019             72.0           Documentary            6.5   \n",
       "\n",
       "       numvotes  \n",
       "0            77  \n",
       "1            43  \n",
       "2          4517  \n",
       "3            13  \n",
       "4           119  \n",
       "...         ...  \n",
       "73851         6  \n",
       "73852       136  \n",
       "73853         8  \n",
       "73854         5  \n",
       "73855        11  \n",
       "\n",
       "[73856 rows x 8 columns]"
      ]
     },
     "execution_count": 30,
     "metadata": {},
     "output_type": "execute_result"
    }
   ],
   "source": [
    "# find out averagerating by genres\n",
    "#join table movie_basic and movie_rating\n",
    "df = pd.read_sql(\"\"\"\n",
    "SELECT *\n",
    "FROM movie_basics\n",
    "JOIN movie_ratings\n",
    "    USING (movie_id)\n",
    "\n",
    "\"\"\", conn)\n",
    "\n",
    "df"
   ]
  },
  {
   "cell_type": "code",
   "execution_count": 31,
   "metadata": {},
   "outputs": [],
   "source": [
    "# make a new cloumn 'genres_lst and split the string \n",
    "df['genres_lst'] = df['genres'].str.split(\",\")\n",
    "df_rating = df.explode('genres_lst')"
   ]
  },
  {
   "cell_type": "code",
   "execution_count": 32,
   "metadata": {},
   "outputs": [],
   "source": [
    "top_rating = df_rating.sort_values(by='averagerating',ascending=False)\n"
   ]
  },
  {
   "cell_type": "code",
   "execution_count": 33,
   "metadata": {},
   "outputs": [
    {
     "data": {
      "text/plain": [
       "genres_lst\n",
       "Short          8.800000\n",
       "Documentary    7.332090\n",
       "Game-Show      7.300000\n",
       "News           7.271330\n",
       "Biography      7.162274\n",
       "Music          7.091972\n",
       "History        7.040956\n",
       "Sport          6.961493\n",
       "War            6.584291\n",
       "Reality-TV     6.500000\n",
       "Musical        6.498336\n",
       "Drama          6.401559\n",
       "Family         6.394725\n",
       "Animation      6.248308\n",
       "Adventure      6.196201\n",
       "Romance        6.146608\n",
       "Crime          6.115441\n",
       "Comedy         6.002689\n",
       "Mystery        5.920401\n",
       "Fantasy        5.919473\n",
       "Western        5.868214\n",
       "Action         5.810361\n",
       "Thriller       5.639114\n",
       "Sci-Fi         5.489755\n",
       "Horror         5.003440\n",
       "Adult          3.766667\n",
       "Name: averagerating, dtype: float64"
      ]
     },
     "execution_count": 33,
     "metadata": {},
     "output_type": "execute_result"
    }
   ],
   "source": [
    "# data groupby genres_lst and sort values of averagerating in ascending order \n",
    "top_rating_genres = top_rating.groupby('genres_lst').mean()['averagerating'].sort_values(ascending=False)\n",
    "top_rating_genres"
   ]
  },
  {
   "cell_type": "code",
   "execution_count": 34,
   "metadata": {
    "scrolled": true
   },
   "outputs": [
    {
     "data": {
      "image/png": "[encoded data removed]",
      "text/plain": [
       "<Figure size 1008x432 with 1 Axes>"
      ]
     },
     "metadata": {
      "needs_background": "light"
     },
     "output_type": "display_data"
    }
   ],
   "source": [
    "fig, ax = plt.subplots(figsize=(14,6))\n",
    "\n",
    "ax.bar(x=top_rating_genres.index, height=top_rating_genres)\n",
    "\n",
    "# Add title and labels\n",
    "ax.set_title('Averagerating by Geners', size=16)\n",
    "ax.set_xlabel('Geners')\n",
    "ax.set_ylabel('Averagerating')\n",
    "ax.tick_params(axis='x', labelrotation = 60)\n",
    "plt.ylim(3,9.25)\n",
    "ax.margins(x=0);"
   ]
  },
  {
   "cell_type": "markdown",
   "metadata": {},
   "source": [
    "**data analyse with most top directors as per averagerating**"
   ]
  },
  {
   "cell_type": "code",
   "execution_count": 35,
   "metadata": {},
   "outputs": [
    {
     "data": {
      "text/html": [
       "<div>\n",
       "<style scoped>\n",
       "    .dataframe tbody tr th:only-of-type {\n",
       "        vertical-align: middle;\n",
       "    }\n",
       "\n",
       "    .dataframe tbody tr th {\n",
       "        vertical-align: top;\n",
       "    }\n",
       "\n",
       "    .dataframe thead th {\n",
       "        text-align: right;\n",
       "    }\n",
       "</style>\n",
       "<table border=\"1\" class=\"dataframe\">\n",
       "  <thead>\n",
       "    <tr style=\"text-align: right;\">\n",
       "      <th></th>\n",
       "      <th>movie_id</th>\n",
       "      <th>primary_name</th>\n",
       "      <th>averagerating</th>\n",
       "    </tr>\n",
       "  </thead>\n",
       "  <tbody>\n",
       "    <tr>\n",
       "      <th>0</th>\n",
       "      <td>tt10176328</td>\n",
       "      <td>Ivana Diniz</td>\n",
       "      <td>10.0</td>\n",
       "    </tr>\n",
       "    <tr>\n",
       "      <th>1</th>\n",
       "      <td>tt10176328</td>\n",
       "      <td>Ivana Diniz</td>\n",
       "      <td>10.0</td>\n",
       "    </tr>\n",
       "    <tr>\n",
       "      <th>2</th>\n",
       "      <td>tt2632430</td>\n",
       "      <td>Mohamed Ulad-Mohand</td>\n",
       "      <td>10.0</td>\n",
       "    </tr>\n",
       "    <tr>\n",
       "      <th>3</th>\n",
       "      <td>tt7227500</td>\n",
       "      <td>Robert Tutak</td>\n",
       "      <td>10.0</td>\n",
       "    </tr>\n",
       "    <tr>\n",
       "      <th>4</th>\n",
       "      <td>tt6991826</td>\n",
       "      <td>Cristina Duarte</td>\n",
       "      <td>10.0</td>\n",
       "    </tr>\n",
       "    <tr>\n",
       "      <th>...</th>\n",
       "      <td>...</td>\n",
       "      <td>...</td>\n",
       "      <td>...</td>\n",
       "    </tr>\n",
       "    <tr>\n",
       "      <th>181382</th>\n",
       "      <td>tt6018006</td>\n",
       "      <td>Andrey Gromov</td>\n",
       "      <td>1.0</td>\n",
       "    </tr>\n",
       "    <tr>\n",
       "      <th>181383</th>\n",
       "      <td>tt6018006</td>\n",
       "      <td>Andrey Gromov</td>\n",
       "      <td>1.0</td>\n",
       "    </tr>\n",
       "    <tr>\n",
       "      <th>181384</th>\n",
       "      <td>tt6207700</td>\n",
       "      <td>Andrey Gromov</td>\n",
       "      <td>1.0</td>\n",
       "    </tr>\n",
       "    <tr>\n",
       "      <th>181385</th>\n",
       "      <td>tt6207700</td>\n",
       "      <td>Andrey Gromov</td>\n",
       "      <td>1.0</td>\n",
       "    </tr>\n",
       "    <tr>\n",
       "      <th>181386</th>\n",
       "      <td>tt9005484</td>\n",
       "      <td>Sammie Lei</td>\n",
       "      <td>1.0</td>\n",
       "    </tr>\n",
       "  </tbody>\n",
       "</table>\n",
       "<p>181387 rows × 3 columns</p>\n",
       "</div>"
      ],
      "text/plain": [
       "          movie_id         primary_name  averagerating\n",
       "0       tt10176328          Ivana Diniz           10.0\n",
       "1       tt10176328          Ivana Diniz           10.0\n",
       "2        tt2632430  Mohamed Ulad-Mohand           10.0\n",
       "3        tt7227500         Robert Tutak           10.0\n",
       "4        tt6991826      Cristina Duarte           10.0\n",
       "...            ...                  ...            ...\n",
       "181382   tt6018006        Andrey Gromov            1.0\n",
       "181383   tt6018006        Andrey Gromov            1.0\n",
       "181384   tt6207700        Andrey Gromov            1.0\n",
       "181385   tt6207700        Andrey Gromov            1.0\n",
       "181386   tt9005484           Sammie Lei            1.0\n",
       "\n",
       "[181387 rows x 3 columns]"
      ]
     },
     "execution_count": 35,
     "metadata": {},
     "output_type": "execute_result"
    }
   ],
   "source": [
    "#join table directors and movie_rating\n",
    "df_director = pd.read_sql(\"\"\"\n",
    "SELECT movie_id,primary_name,averagerating\n",
    "FROM persons\n",
    "JOIN directors\n",
    "    USING(person_id)\n",
    "JOIN movie_ratings\n",
    "    USING(movie_id)\n",
    "\n",
    "ORDER BY averagerating DESC;\n",
    "\n",
    "\"\"\", conn)\n",
    "\n",
    "df_director"
   ]
  },
  {
   "cell_type": "code",
   "execution_count": 36,
   "metadata": {},
   "outputs": [
    {
     "data": {
      "text/plain": [
       "primary_name\n",
       "Stephen Peek              10.0\n",
       "Tristan David Luciotti    10.0\n",
       "Lindsay Thompson          10.0\n",
       "Loreto Di Cesare          10.0\n",
       "Chad Carpenter            10.0\n",
       "Michiel Brongers          10.0\n",
       "Masahiro Hayakawa         10.0\n",
       "Ivana Diniz               10.0\n",
       "Emre Oran                 10.0\n",
       "Andrew Jezard              9.9\n",
       "Kalyan Varma               9.9\n",
       "Raphael Sbarge             9.9\n",
       "Amoghavarsha               9.9\n",
       "Nagaraja Uppunda           9.9\n",
       "Bonnie Hawthorne           9.8\n",
       "Name: averagerating, dtype: float64"
      ]
     },
     "execution_count": 36,
     "metadata": {},
     "output_type": "execute_result"
    }
   ],
   "source": [
    "# groupby director and sort value ascending\n",
    "director_rate=df_director.groupby('primary_name').median()['averagerating'].sort_values(ascending=False).head(15)\n",
    "director_rate"
   ]
  },
  {
   "cell_type": "code",
   "execution_count": 37,
   "metadata": {},
   "outputs": [
    {
     "data": {
      "image/png": "[encoded data removed]",
      "text/plain": [
       "<Figure size 864x432 with 1 Axes>"
      ]
     },
     "metadata": {
      "needs_background": "light"
     },
     "output_type": "display_data"
    }
   ],
   "source": [
    "director_rate.plot(kind=\"bar\", figsize=(12,6));\n",
    "plt.title('Averagerating By Directors', size=16)\n",
    "plt.ylabel('Average Rating')\n",
    "plt.ylim(9,10.25);"
   ]
  },
  {
   "cell_type": "markdown",
   "metadata": {},
   "source": [
    "**Based on the data results I would suggest Microsoft to invest in Top most genres like HC, Documentary  \n",
    "movies with any top ten directors because they would bring the most amount of profit to the microsoft. \n",
    "Also i suggest to invest in top profitable movie like Avtar, Titanic, Star Wars Ep.VII: The Force Awakens, \n",
    "Black panther.**"
   ]
  },
  {
   "cell_type": "code",
   "execution_count": 38,
   "metadata": {},
   "outputs": [],
   "source": [
    "conn.close()"
   ]
  }
 ],
 "metadata": {
  "kernelspec": {
   "display_name": "Python 3",
   "language": "python",
   "name": "python3"
  },
  "language_info": {
   "codemirror_mode": {
    "name": "ipython",
    "version": 3
   },
   "file_extension": ".py",
   "mimetype": "text/x-python",
   "name": "python",
   "nbconvert_exporter": "python",
   "pygments_lexer": "ipython3",
   "version": "3.9.5"
  }
 },
 "nbformat": 4,
 "nbformat_minor": 2
}
